{
 "cells": [
  {
   "cell_type": "markdown",
   "id": "124e5672",
   "metadata": {},
   "source": [
    "# Custom Chatbot Project"
   ]
  },
  {
   "cell_type": "markdown",
   "id": "2a4a94b3",
   "metadata": {},
   "source": [
    "With the dataset loaded from the *2023_fashion_trends.csv* in the data folder, a cutom chatbot is created. This chatbot enhances the OpenAI ChatGPT 3.5 while giving the context of fashion trends after 2022.\n",
    "ChatGPT 3.5 model is trained with data before 2022, and it will not give contents after that in its reply.\n",
    "\n",
    "I have chosed to use *2023_fashion_trends.csv* dataset as it contains description about the fashion trend written in natural language, and easy to handle in the preparation step for OpenAI API calls."
   ]
  },
  {
   "cell_type": "code",
   "execution_count": 73,
   "id": "969ddd9e",
   "metadata": {},
   "outputs": [],
   "source": [
    "# dependent packages in this projec\n",
    "import pandas as pd\n",
    "import numpy as np\n",
    "import openai\n",
    "from dateutil.parser import parse\n",
    "import requests\n",
    "\n",
    "import openai\n",
    "from openai.embeddings_utils import get_embedding, distances_from_embeddings"
   ]
  },
  {
   "cell_type": "markdown",
   "id": "b9790974",
   "metadata": {},
   "source": [
    "OpenAI API calls require API key. You should obtain the key at *https://platform.openai.com/api-keys*.\n",
    "This is a secret key, and you can keep it secret. In this notebook, the key itself is stored in a file, which is not uploaded into the github repository.\n",
    "\n",
    "If you want to yuse your own, please set your key directly like\n",
    "\n",
    "```\n",
    "openai.api_key = <your key>\n",
    "```"
   ]
  },
  {
   "cell_type": "code",
   "execution_count": 74,
   "id": "1ccb0161",
   "metadata": {},
   "outputs": [],
   "source": [
    "f = open(\"../openai_app.key\", \"rt\")\n",
    "openai.api_key = f.read()"
   ]
  },
  {
   "cell_type": "markdown",
   "id": "1410660a",
   "metadata": {},
   "source": [
    "To get response from open AI, text data should be transformed into vectors of floating point numbers. This is called **Embedding**. For embedding, somke models are provided by *Open AI*, and you can find the used model in *https://platform.openai.com/docs/guides/embeddings/embedding-models*."
   ]
  },
  {
   "cell_type": "code",
   "execution_count": 75,
   "id": "b932ca29",
   "metadata": {},
   "outputs": [],
   "source": [
    "EMBEDDING_MODEL_NAME = \"text-embedding-ada-002\"\n"
   ]
  },
  {
   "cell_type": "markdown",
   "id": "6b4b73b9",
   "metadata": {},
   "source": [
    "## Define utility functions"
   ]
  },
  {
   "cell_type": "markdown",
   "id": "9e3d6370",
   "metadata": {},
   "source": [
    "This is the utiliy function to add embedding column for the corresponding text column. The pandas DataFrame is provided as an argument. This DataFrame should have \"text\" column to get embedding for the text. \n",
    "\n",
    "As an ouput, Pandas DataFrame with \"text\" and \"embedding\" column will be returned."
   ]
  },
  {
   "cell_type": "code",
   "execution_count": 76,
   "id": "cfe8c6b4",
   "metadata": {},
   "outputs": [],
   "source": [
    "def add_embeddings(df):\n",
    "    if 'text' not in df_fashion.columns.to_list():\n",
    "        raise KeyError(\"\\'text\\' should be defined in the data frame you provide\")\n",
    "\n",
    "    batch_size = 100\n",
    "    embeddings = []\n",
    "\n",
    "    df_copy = df.copy()\n",
    "    for i in range(0, len(df_copy), batch_size):\n",
    "        # Send text data to OpenAI model to get embeddings\n",
    "        response = openai.Embedding.create(\n",
    "            input=df.iloc[i:i+batch_size][\"text\"].tolist(),\n",
    "            engine=EMBEDDING_MODEL_NAME\n",
    "        )\n",
    "\n",
    "        # Add embeddings to list\n",
    "        embeddings.extend([data[\"embedding\"] for data in response[\"data\"]])\n",
    "\n",
    "    # Add embeddings list to dataframe\n",
    "    df_copy[\"embeddings\"] = embeddings\n",
    "\n",
    "    return df_copy"
   ]
  },
  {
   "cell_type": "markdown",
   "id": "0c52175c",
   "metadata": {},
   "source": [
    "To find a relevant data, we get an ebeddings for the question text.\n",
    "Based on the *cosine similarity* distance, the DataFrame is sorted."
   ]
  },
  {
   "cell_type": "code",
   "execution_count": 84,
   "id": "93bd2555",
   "metadata": {},
   "outputs": [],
   "source": [
    "def get_rows_sorted_by_relevance(question, df):\n",
    "    \"\"\"\n",
    "    Function that takes in a question string and a dataframe containing\n",
    "    rows of text and associated embeddings, and returns that dataframe\n",
    "    sorted from least to most relevant for that question\n",
    "    \"\"\"\n",
    "\n",
    "    # Get embeddings for the question text\n",
    "    question_embeddings = get_embedding(question, engine=EMBEDDING_MODEL_NAME)\n",
    "\n",
    "    # Make a copy of the dataframe and add a \"distances\" column containing\n",
    "    # the cosine distances between each row's embeddings and the\n",
    "    # embeddings of the question\n",
    "    df_copy = df.copy()\n",
    "    #df_copy[\"embeddings\"] = df_copy[\"embeddings\"].apply(eval).apply(np.array)\n",
    "    df_copy[\"distances\"] = distances_from_embeddings(\n",
    "        question_embeddings,\n",
    "        df_copy[\"embeddings\"].to_list(),\n",
    "        distance_metric=\"cosine\"\n",
    "    )\n",
    "\n",
    "    # Sort the copied dataframe by the distances and return it\n",
    "    # (shorter distance = more relevant so we sort in ascending order)\n",
    "    df_copy.sort_values(\"distances\", ascending=True, inplace=True)\n",
    "    return df_copy"
   ]
  },
  {
   "cell_type": "markdown",
   "id": "a63d4c5f",
   "metadata": {},
   "source": [
    "## Data Wrangling\n",
    "\n",
    "In the cells below, load *2023_fashion_trends.csv* into a `pandas` dataframe with a column named `\"text\"`. \n",
    "Here the `\"text\"` is created by concatinating `\"Trends\"` adn `\"Source\"`."
   ]
  },
  {
   "cell_type": "markdown",
   "id": "9f286227",
   "metadata": {},
   "source": [
    "## 2023 fashion trends"
   ]
  },
  {
   "cell_type": "markdown",
   "id": "cca1d72c",
   "metadata": {},
   "source": [
    "### Load data from a csv and inspect the data"
   ]
  },
  {
   "cell_type": "code",
   "execution_count": 78,
   "id": "c69b83a1",
   "metadata": {},
   "outputs": [
    {
     "data": {
      "text/plain": [
       "\"columns: ['URL', 'Trends', 'Source']\""
      ]
     },
     "metadata": {},
     "output_type": "display_data"
    },
    {
     "data": {
      "text/plain": [
       "'number of rows: 246'"
      ]
     },
     "metadata": {},
     "output_type": "display_data"
    },
    {
     "data": {
      "text/html": [
       "<div>\n",
       "<style scoped>\n",
       "    .dataframe tbody tr th:only-of-type {\n",
       "        vertical-align: middle;\n",
       "    }\n",
       "\n",
       "    .dataframe tbody tr th {\n",
       "        vertical-align: top;\n",
       "    }\n",
       "\n",
       "    .dataframe thead th {\n",
       "        text-align: right;\n",
       "    }\n",
       "</style>\n",
       "<table border=\"1\" class=\"dataframe\">\n",
       "  <thead>\n",
       "    <tr style=\"text-align: right;\">\n",
       "      <th></th>\n",
       "      <th>URL</th>\n",
       "      <th>Trends</th>\n",
       "      <th>Source</th>\n",
       "    </tr>\n",
       "  </thead>\n",
       "  <tbody>\n",
       "    <tr>\n",
       "      <th>count</th>\n",
       "      <td>82</td>\n",
       "      <td>82</td>\n",
       "      <td>82</td>\n",
       "    </tr>\n",
       "    <tr>\n",
       "      <th>unique</th>\n",
       "      <td>5</td>\n",
       "      <td>82</td>\n",
       "      <td>5</td>\n",
       "    </tr>\n",
       "    <tr>\n",
       "      <th>top</th>\n",
       "      <td>https://www.whowhatwear.com/spring-summer-2023...</td>\n",
       "      <td>2023 Fashion Trend: Red. Glossy red hues took ...</td>\n",
       "      <td>Spring/Summer 2023 Fashion Trends: 21 Expert-A...</td>\n",
       "    </tr>\n",
       "    <tr>\n",
       "      <th>freq</th>\n",
       "      <td>42</td>\n",
       "      <td>1</td>\n",
       "      <td>42</td>\n",
       "    </tr>\n",
       "  </tbody>\n",
       "</table>\n",
       "</div>"
      ],
      "text/plain": [
       "                                                      URL  \\\n",
       "count                                                  82   \n",
       "unique                                                  5   \n",
       "top     https://www.whowhatwear.com/spring-summer-2023...   \n",
       "freq                                                   42   \n",
       "\n",
       "                                                   Trends  \\\n",
       "count                                                  82   \n",
       "unique                                                 82   \n",
       "top     2023 Fashion Trend: Red. Glossy red hues took ...   \n",
       "freq                                                    1   \n",
       "\n",
       "                                                   Source  \n",
       "count                                                  82  \n",
       "unique                                                  5  \n",
       "top     Spring/Summer 2023 Fashion Trends: 21 Expert-A...  \n",
       "freq                                                   42  "
      ]
     },
     "metadata": {},
     "output_type": "display_data"
    },
    {
     "data": {
      "text/html": [
       "<div>\n",
       "<style scoped>\n",
       "    .dataframe tbody tr th:only-of-type {\n",
       "        vertical-align: middle;\n",
       "    }\n",
       "\n",
       "    .dataframe tbody tr th {\n",
       "        vertical-align: top;\n",
       "    }\n",
       "\n",
       "    .dataframe thead th {\n",
       "        text-align: right;\n",
       "    }\n",
       "</style>\n",
       "<table border=\"1\" class=\"dataframe\">\n",
       "  <thead>\n",
       "    <tr style=\"text-align: right;\">\n",
       "      <th></th>\n",
       "      <th>URL</th>\n",
       "      <th>Trends</th>\n",
       "      <th>Source</th>\n",
       "    </tr>\n",
       "  </thead>\n",
       "  <tbody>\n",
       "    <tr>\n",
       "      <th>0</th>\n",
       "      <td>https://www.refinery29.com/en-us/fashion-trend...</td>\n",
       "      <td>2023 Fashion Trend: Red. Glossy red hues took ...</td>\n",
       "      <td>7 Fashion Trends That Will Take Over 2023 — Sh...</td>\n",
       "    </tr>\n",
       "    <tr>\n",
       "      <th>1</th>\n",
       "      <td>https://www.refinery29.com/en-us/fashion-trend...</td>\n",
       "      <td>2023 Fashion Trend: Cargo Pants. Utilitarian w...</td>\n",
       "      <td>7 Fashion Trends That Will Take Over 2023 — Sh...</td>\n",
       "    </tr>\n",
       "    <tr>\n",
       "      <th>2</th>\n",
       "      <td>https://www.refinery29.com/en-us/fashion-trend...</td>\n",
       "      <td>2023 Fashion Trend: Sheer Clothing. \"Bare it a...</td>\n",
       "      <td>7 Fashion Trends That Will Take Over 2023 — Sh...</td>\n",
       "    </tr>\n",
       "    <tr>\n",
       "      <th>3</th>\n",
       "      <td>https://www.refinery29.com/en-us/fashion-trend...</td>\n",
       "      <td>2023 Fashion Trend: Denim Reimagined. From dou...</td>\n",
       "      <td>7 Fashion Trends That Will Take Over 2023 — Sh...</td>\n",
       "    </tr>\n",
       "    <tr>\n",
       "      <th>4</th>\n",
       "      <td>https://www.refinery29.com/en-us/fashion-trend...</td>\n",
       "      <td>2023 Fashion Trend: Shine For The Daytime. The...</td>\n",
       "      <td>7 Fashion Trends That Will Take Over 2023 — Sh...</td>\n",
       "    </tr>\n",
       "  </tbody>\n",
       "</table>\n",
       "</div>"
      ],
      "text/plain": [
       "                                                 URL  \\\n",
       "0  https://www.refinery29.com/en-us/fashion-trend...   \n",
       "1  https://www.refinery29.com/en-us/fashion-trend...   \n",
       "2  https://www.refinery29.com/en-us/fashion-trend...   \n",
       "3  https://www.refinery29.com/en-us/fashion-trend...   \n",
       "4  https://www.refinery29.com/en-us/fashion-trend...   \n",
       "\n",
       "                                              Trends  \\\n",
       "0  2023 Fashion Trend: Red. Glossy red hues took ...   \n",
       "1  2023 Fashion Trend: Cargo Pants. Utilitarian w...   \n",
       "2  2023 Fashion Trend: Sheer Clothing. \"Bare it a...   \n",
       "3  2023 Fashion Trend: Denim Reimagined. From dou...   \n",
       "4  2023 Fashion Trend: Shine For The Daytime. The...   \n",
       "\n",
       "                                              Source  \n",
       "0  7 Fashion Trends That Will Take Over 2023 — Sh...  \n",
       "1  7 Fashion Trends That Will Take Over 2023 — Sh...  \n",
       "2  7 Fashion Trends That Will Take Over 2023 — Sh...  \n",
       "3  7 Fashion Trends That Will Take Over 2023 — Sh...  \n",
       "4  7 Fashion Trends That Will Take Over 2023 — Sh...  "
      ]
     },
     "execution_count": 78,
     "metadata": {},
     "output_type": "execute_result"
    }
   ],
   "source": [
    "df_fashion = pd.read_csv(\"data/2023_fashion_trends.csv\")\n",
    "display(\"columns: {}\".format(df_fashion.columns.to_list()))\n",
    "display(\"number of rows: {}\".format(df_fashion.size))\n",
    "display(df_fashion.describe())\n",
    "df_fashion.head()"
   ]
  },
  {
   "cell_type": "markdown",
   "id": "d82d36f1",
   "metadata": {},
   "source": [
    "Seeing the table columns, both \"Trends\" and \"Source\" is meaningful input to add as a context. So in this chat, both will be included in the \"Text\" field."
   ]
  },
  {
   "cell_type": "code",
   "execution_count": 79,
   "id": "98021e34",
   "metadata": {},
   "outputs": [
    {
     "data": {
      "text/html": [
       "<div>\n",
       "<style scoped>\n",
       "    .dataframe tbody tr th:only-of-type {\n",
       "        vertical-align: middle;\n",
       "    }\n",
       "\n",
       "    .dataframe tbody tr th {\n",
       "        vertical-align: top;\n",
       "    }\n",
       "\n",
       "    .dataframe thead th {\n",
       "        text-align: right;\n",
       "    }\n",
       "</style>\n",
       "<table border=\"1\" class=\"dataframe\">\n",
       "  <thead>\n",
       "    <tr style=\"text-align: right;\">\n",
       "      <th></th>\n",
       "      <th>URL</th>\n",
       "      <th>Trends</th>\n",
       "      <th>Source</th>\n",
       "      <th>text</th>\n",
       "    </tr>\n",
       "  </thead>\n",
       "  <tbody>\n",
       "    <tr>\n",
       "      <th>77</th>\n",
       "      <td>https://www.whowhatwear.com/spring-summer-2023...</td>\n",
       "      <td>If lime green isn't your vibe, rest assured th...</td>\n",
       "      <td>Spring/Summer 2023 Fashion Trends: 21 Expert-A...</td>\n",
       "      <td>If lime green isn't your vibe, rest assured th...</td>\n",
       "    </tr>\n",
       "    <tr>\n",
       "      <th>78</th>\n",
       "      <td>https://www.whowhatwear.com/spring-summer-2023...</td>\n",
       "      <td>\"As someone who can clearly (not fondly) remem...</td>\n",
       "      <td>Spring/Summer 2023 Fashion Trends: 21 Expert-A...</td>\n",
       "      <td>\"As someone who can clearly (not fondly) remem...</td>\n",
       "    </tr>\n",
       "    <tr>\n",
       "      <th>79</th>\n",
       "      <td>https://www.whowhatwear.com/spring-summer-2023...</td>\n",
       "      <td>\"Combine this design shift with the fact that ...</td>\n",
       "      <td>Spring/Summer 2023 Fashion Trends: 21 Expert-A...</td>\n",
       "      <td>\"Combine this design shift with the fact that ...</td>\n",
       "    </tr>\n",
       "    <tr>\n",
       "      <th>80</th>\n",
       "      <td>https://www.whowhatwear.com/spring-summer-2023...</td>\n",
       "      <td>Thought party season ended at the stroke of mi...</td>\n",
       "      <td>Spring/Summer 2023 Fashion Trends: 21 Expert-A...</td>\n",
       "      <td>Thought party season ended at the stroke of mi...</td>\n",
       "    </tr>\n",
       "    <tr>\n",
       "      <th>81</th>\n",
       "      <td>https://www.whowhatwear.com/spring-summer-2023...</td>\n",
       "      <td>\"This season, we saw the revival of the bubble...</td>\n",
       "      <td>Spring/Summer 2023 Fashion Trends: 21 Expert-A...</td>\n",
       "      <td>\"This season, we saw the revival of the bubble...</td>\n",
       "    </tr>\n",
       "  </tbody>\n",
       "</table>\n",
       "</div>"
      ],
      "text/plain": [
       "                                                  URL  \\\n",
       "77  https://www.whowhatwear.com/spring-summer-2023...   \n",
       "78  https://www.whowhatwear.com/spring-summer-2023...   \n",
       "79  https://www.whowhatwear.com/spring-summer-2023...   \n",
       "80  https://www.whowhatwear.com/spring-summer-2023...   \n",
       "81  https://www.whowhatwear.com/spring-summer-2023...   \n",
       "\n",
       "                                               Trends  \\\n",
       "77  If lime green isn't your vibe, rest assured th...   \n",
       "78  \"As someone who can clearly (not fondly) remem...   \n",
       "79  \"Combine this design shift with the fact that ...   \n",
       "80  Thought party season ended at the stroke of mi...   \n",
       "81  \"This season, we saw the revival of the bubble...   \n",
       "\n",
       "                                               Source  \\\n",
       "77  Spring/Summer 2023 Fashion Trends: 21 Expert-A...   \n",
       "78  Spring/Summer 2023 Fashion Trends: 21 Expert-A...   \n",
       "79  Spring/Summer 2023 Fashion Trends: 21 Expert-A...   \n",
       "80  Spring/Summer 2023 Fashion Trends: 21 Expert-A...   \n",
       "81  Spring/Summer 2023 Fashion Trends: 21 Expert-A...   \n",
       "\n",
       "                                                 text  \n",
       "77  If lime green isn't your vibe, rest assured th...  \n",
       "78  \"As someone who can clearly (not fondly) remem...  \n",
       "79  \"Combine this design shift with the fact that ...  \n",
       "80  Thought party season ended at the stroke of mi...  \n",
       "81  \"This season, we saw the revival of the bubble...  "
      ]
     },
     "execution_count": 79,
     "metadata": {},
     "output_type": "execute_result"
    }
   ],
   "source": [
    "df_fashion[\"text\"] = df_fashion['Trends'] + \"in\" + df_fashion['Source']\n",
    "df_fashion.tail()"
   ]
  },
  {
   "cell_type": "markdown",
   "id": "33377010",
   "metadata": {},
   "source": [
    "### Get embeddings."
   ]
  },
  {
   "cell_type": "code",
   "execution_count": 80,
   "id": "f4e6be79",
   "metadata": {},
   "outputs": [],
   "source": [
    "df_embedded = add_embeddings(df_fashion)"
   ]
  },
  {
   "cell_type": "code",
   "execution_count": 81,
   "id": "8e9ebff2",
   "metadata": {},
   "outputs": [
    {
     "data": {
      "text/html": [
       "<div>\n",
       "<style scoped>\n",
       "    .dataframe tbody tr th:only-of-type {\n",
       "        vertical-align: middle;\n",
       "    }\n",
       "\n",
       "    .dataframe tbody tr th {\n",
       "        vertical-align: top;\n",
       "    }\n",
       "\n",
       "    .dataframe thead th {\n",
       "        text-align: right;\n",
       "    }\n",
       "</style>\n",
       "<table border=\"1\" class=\"dataframe\">\n",
       "  <thead>\n",
       "    <tr style=\"text-align: right;\">\n",
       "      <th></th>\n",
       "      <th>URL</th>\n",
       "      <th>Trends</th>\n",
       "      <th>Source</th>\n",
       "      <th>text</th>\n",
       "      <th>embeddings</th>\n",
       "    </tr>\n",
       "  </thead>\n",
       "  <tbody>\n",
       "    <tr>\n",
       "      <th>0</th>\n",
       "      <td>https://www.refinery29.com/en-us/fashion-trend...</td>\n",
       "      <td>2023 Fashion Trend: Red. Glossy red hues took ...</td>\n",
       "      <td>7 Fashion Trends That Will Take Over 2023 — Sh...</td>\n",
       "      <td>2023 Fashion Trend: Red. Glossy red hues took ...</td>\n",
       "      <td>[-0.014947973191738129, -0.01965477503836155, ...</td>\n",
       "    </tr>\n",
       "    <tr>\n",
       "      <th>1</th>\n",
       "      <td>https://www.refinery29.com/en-us/fashion-trend...</td>\n",
       "      <td>2023 Fashion Trend: Cargo Pants. Utilitarian w...</td>\n",
       "      <td>7 Fashion Trends That Will Take Over 2023 — Sh...</td>\n",
       "      <td>2023 Fashion Trend: Cargo Pants. Utilitarian w...</td>\n",
       "      <td>[0.0006544628995470703, -0.029493585228919983,...</td>\n",
       "    </tr>\n",
       "    <tr>\n",
       "      <th>2</th>\n",
       "      <td>https://www.refinery29.com/en-us/fashion-trend...</td>\n",
       "      <td>2023 Fashion Trend: Sheer Clothing. \"Bare it a...</td>\n",
       "      <td>7 Fashion Trends That Will Take Over 2023 — Sh...</td>\n",
       "      <td>2023 Fashion Trend: Sheer Clothing. \"Bare it a...</td>\n",
       "      <td>[-0.006049180869013071, -0.020778054371476173,...</td>\n",
       "    </tr>\n",
       "    <tr>\n",
       "      <th>3</th>\n",
       "      <td>https://www.refinery29.com/en-us/fashion-trend...</td>\n",
       "      <td>2023 Fashion Trend: Denim Reimagined. From dou...</td>\n",
       "      <td>7 Fashion Trends That Will Take Over 2023 — Sh...</td>\n",
       "      <td>2023 Fashion Trend: Denim Reimagined. From dou...</td>\n",
       "      <td>[-0.0077167293056845665, -0.007716729305684566...</td>\n",
       "    </tr>\n",
       "    <tr>\n",
       "      <th>4</th>\n",
       "      <td>https://www.refinery29.com/en-us/fashion-trend...</td>\n",
       "      <td>2023 Fashion Trend: Shine For The Daytime. The...</td>\n",
       "      <td>7 Fashion Trends That Will Take Over 2023 — Sh...</td>\n",
       "      <td>2023 Fashion Trend: Shine For The Daytime. The...</td>\n",
       "      <td>[0.0010094589088112116, 0.001649868325330317, ...</td>\n",
       "    </tr>\n",
       "  </tbody>\n",
       "</table>\n",
       "</div>"
      ],
      "text/plain": [
       "                                                 URL  \\\n",
       "0  https://www.refinery29.com/en-us/fashion-trend...   \n",
       "1  https://www.refinery29.com/en-us/fashion-trend...   \n",
       "2  https://www.refinery29.com/en-us/fashion-trend...   \n",
       "3  https://www.refinery29.com/en-us/fashion-trend...   \n",
       "4  https://www.refinery29.com/en-us/fashion-trend...   \n",
       "\n",
       "                                              Trends  \\\n",
       "0  2023 Fashion Trend: Red. Glossy red hues took ...   \n",
       "1  2023 Fashion Trend: Cargo Pants. Utilitarian w...   \n",
       "2  2023 Fashion Trend: Sheer Clothing. \"Bare it a...   \n",
       "3  2023 Fashion Trend: Denim Reimagined. From dou...   \n",
       "4  2023 Fashion Trend: Shine For The Daytime. The...   \n",
       "\n",
       "                                              Source  \\\n",
       "0  7 Fashion Trends That Will Take Over 2023 — Sh...   \n",
       "1  7 Fashion Trends That Will Take Over 2023 — Sh...   \n",
       "2  7 Fashion Trends That Will Take Over 2023 — Sh...   \n",
       "3  7 Fashion Trends That Will Take Over 2023 — Sh...   \n",
       "4  7 Fashion Trends That Will Take Over 2023 — Sh...   \n",
       "\n",
       "                                                text  \\\n",
       "0  2023 Fashion Trend: Red. Glossy red hues took ...   \n",
       "1  2023 Fashion Trend: Cargo Pants. Utilitarian w...   \n",
       "2  2023 Fashion Trend: Sheer Clothing. \"Bare it a...   \n",
       "3  2023 Fashion Trend: Denim Reimagined. From dou...   \n",
       "4  2023 Fashion Trend: Shine For The Daytime. The...   \n",
       "\n",
       "                                          embeddings  \n",
       "0  [-0.014947973191738129, -0.01965477503836155, ...  \n",
       "1  [0.0006544628995470703, -0.029493585228919983,...  \n",
       "2  [-0.006049180869013071, -0.020778054371476173,...  \n",
       "3  [-0.0077167293056845665, -0.007716729305684566...  \n",
       "4  [0.0010094589088112116, 0.001649868325330317, ...  "
      ]
     },
     "execution_count": 81,
     "metadata": {},
     "output_type": "execute_result"
    }
   ],
   "source": [
    "df_embedded.head()"
   ]
  },
  {
   "cell_type": "markdown",
   "id": "ae769871",
   "metadata": {},
   "source": [
    "## Custom Query Completion\n",
    "\n",
    "TODO: In the cells below, compose a custom query using your chosen dataset and retrieve results from an OpenAI `Completion` model. You may copy and paste any useful code from the course materials."
   ]
  },
  {
   "cell_type": "code",
   "execution_count": 82,
   "id": "23721bb5",
   "metadata": {},
   "outputs": [],
   "source": [
    "MY_QUESTION = \"\"\"List up the cool looking fashion in 2023?\"\"\";"
   ]
  },
  {
   "cell_type": "code",
   "execution_count": 85,
   "id": "f0ce29c0",
   "metadata": {},
   "outputs": [
    {
     "data": {
      "text/html": [
       "<div>\n",
       "<style scoped>\n",
       "    .dataframe tbody tr th:only-of-type {\n",
       "        vertical-align: middle;\n",
       "    }\n",
       "\n",
       "    .dataframe tbody tr th {\n",
       "        vertical-align: top;\n",
       "    }\n",
       "\n",
       "    .dataframe thead th {\n",
       "        text-align: right;\n",
       "    }\n",
       "</style>\n",
       "<table border=\"1\" class=\"dataframe\">\n",
       "  <thead>\n",
       "    <tr style=\"text-align: right;\">\n",
       "      <th></th>\n",
       "      <th>URL</th>\n",
       "      <th>Trends</th>\n",
       "      <th>Source</th>\n",
       "      <th>text</th>\n",
       "      <th>embeddings</th>\n",
       "      <th>distances</th>\n",
       "    </tr>\n",
       "  </thead>\n",
       "  <tbody>\n",
       "    <tr>\n",
       "      <th>63</th>\n",
       "      <td>https://www.whowhatwear.com/spring-summer-2023...</td>\n",
       "      <td>\"Every season, there is a trend that speaks to...</td>\n",
       "      <td>Spring/Summer 2023 Fashion Trends: 21 Expert-A...</td>\n",
       "      <td>\"Every season, there is a trend that speaks to...</td>\n",
       "      <td>[-0.004253895487636328, -0.016355551779270172,...</td>\n",
       "      <td>0.130601</td>\n",
       "    </tr>\n",
       "    <tr>\n",
       "      <th>53</th>\n",
       "      <td>https://www.whowhatwear.com/spring-summer-2023...</td>\n",
       "      <td>For spring 2023, there was a more surrealist i...</td>\n",
       "      <td>Spring/Summer 2023 Fashion Trends: 21 Expert-A...</td>\n",
       "      <td>For spring 2023, there was a more surrealist i...</td>\n",
       "      <td>[-0.026955636218190193, -0.005796519573777914,...</td>\n",
       "      <td>0.133132</td>\n",
       "    </tr>\n",
       "    <tr>\n",
       "      <th>0</th>\n",
       "      <td>https://www.refinery29.com/en-us/fashion-trend...</td>\n",
       "      <td>2023 Fashion Trend: Red. Glossy red hues took ...</td>\n",
       "      <td>7 Fashion Trends That Will Take Over 2023 — Sh...</td>\n",
       "      <td>2023 Fashion Trend: Red. Glossy red hues took ...</td>\n",
       "      <td>[-0.014947973191738129, -0.01965477503836155, ...</td>\n",
       "      <td>0.133258</td>\n",
       "    </tr>\n",
       "    <tr>\n",
       "      <th>6</th>\n",
       "      <td>https://www.refinery29.com/en-us/fashion-trend...</td>\n",
       "      <td>2023 Fashion Trend: Cobalt Blue. The strongest...</td>\n",
       "      <td>7 Fashion Trends That Will Take Over 2023 — Sh...</td>\n",
       "      <td>2023 Fashion Trend: Cobalt Blue. The strongest...</td>\n",
       "      <td>[-0.0023217909038066864, -0.022100433707237244...</td>\n",
       "      <td>0.134244</td>\n",
       "    </tr>\n",
       "    <tr>\n",
       "      <th>56</th>\n",
       "      <td>https://www.whowhatwear.com/spring-summer-2023...</td>\n",
       "      <td>Gen Z call it \"indie sleaze.\" I call it my war...</td>\n",
       "      <td>Spring/Summer 2023 Fashion Trends: 21 Expert-A...</td>\n",
       "      <td>Gen Z call it \"indie sleaze.\" I call it my war...</td>\n",
       "      <td>[-0.00038623865111730993, -0.00202168826945126...</td>\n",
       "      <td>0.134522</td>\n",
       "    </tr>\n",
       "    <tr>\n",
       "      <th>...</th>\n",
       "      <td>...</td>\n",
       "      <td>...</td>\n",
       "      <td>...</td>\n",
       "      <td>...</td>\n",
       "      <td>...</td>\n",
       "      <td>...</td>\n",
       "    </tr>\n",
       "    <tr>\n",
       "      <th>61</th>\n",
       "      <td>https://www.whowhatwear.com/spring-summer-2023...</td>\n",
       "      <td>\"As seen in Miu Miu's Milan Fashion Week show,...</td>\n",
       "      <td>Spring/Summer 2023 Fashion Trends: 21 Expert-A...</td>\n",
       "      <td>\"As seen in Miu Miu's Milan Fashion Week show,...</td>\n",
       "      <td>[-0.02678501233458519, -0.005416037980467081, ...</td>\n",
       "      <td>0.204613</td>\n",
       "    </tr>\n",
       "    <tr>\n",
       "      <th>78</th>\n",
       "      <td>https://www.whowhatwear.com/spring-summer-2023...</td>\n",
       "      <td>\"As someone who can clearly (not fondly) remem...</td>\n",
       "      <td>Spring/Summer 2023 Fashion Trends: 21 Expert-A...</td>\n",
       "      <td>\"As someone who can clearly (not fondly) remem...</td>\n",
       "      <td>[-0.007301459088921547, -0.0058418381959199905...</td>\n",
       "      <td>0.206437</td>\n",
       "    </tr>\n",
       "    <tr>\n",
       "      <th>7</th>\n",
       "      <td>https://www.instyle.com/spring-2023-fashion-tr...</td>\n",
       "      <td>Sculptural Bags That Make a Simple Statement. ...</td>\n",
       "      <td>The Top 6 Trends to Wear for Spring 2023, Acco...</td>\n",
       "      <td>Sculptural Bags That Make a Simple Statement. ...</td>\n",
       "      <td>[-0.02263840101659298, -0.00013554540055338293...</td>\n",
       "      <td>0.207002</td>\n",
       "    </tr>\n",
       "    <tr>\n",
       "      <th>18</th>\n",
       "      <td>https://www.glamour.com/story/spring-fashion-t...</td>\n",
       "      <td>Oversized Bags. As cute as they can be, tiny b...</td>\n",
       "      <td>9 Spring 2023 Fashion Trends You’ll Want to Tr...</td>\n",
       "      <td>Oversized Bags. As cute as they can be, tiny b...</td>\n",
       "      <td>[0.003914128988981247, -0.010709906928241253, ...</td>\n",
       "      <td>0.207272</td>\n",
       "    </tr>\n",
       "    <tr>\n",
       "      <th>10</th>\n",
       "      <td>https://www.instyle.com/spring-2023-fashion-tr...</td>\n",
       "      <td>More Maxi Skirt Moments. Fashion expert and st...</td>\n",
       "      <td>The Top 6 Trends to Wear for Spring 2023, Acco...</td>\n",
       "      <td>More Maxi Skirt Moments. Fashion expert and st...</td>\n",
       "      <td>[-0.008739108219742775, -0.0039319307543337345...</td>\n",
       "      <td>0.210638</td>\n",
       "    </tr>\n",
       "  </tbody>\n",
       "</table>\n",
       "<p>82 rows × 6 columns</p>\n",
       "</div>"
      ],
      "text/plain": [
       "                                                  URL  \\\n",
       "63  https://www.whowhatwear.com/spring-summer-2023...   \n",
       "53  https://www.whowhatwear.com/spring-summer-2023...   \n",
       "0   https://www.refinery29.com/en-us/fashion-trend...   \n",
       "6   https://www.refinery29.com/en-us/fashion-trend...   \n",
       "56  https://www.whowhatwear.com/spring-summer-2023...   \n",
       "..                                                ...   \n",
       "61  https://www.whowhatwear.com/spring-summer-2023...   \n",
       "78  https://www.whowhatwear.com/spring-summer-2023...   \n",
       "7   https://www.instyle.com/spring-2023-fashion-tr...   \n",
       "18  https://www.glamour.com/story/spring-fashion-t...   \n",
       "10  https://www.instyle.com/spring-2023-fashion-tr...   \n",
       "\n",
       "                                               Trends  \\\n",
       "63  \"Every season, there is a trend that speaks to...   \n",
       "53  For spring 2023, there was a more surrealist i...   \n",
       "0   2023 Fashion Trend: Red. Glossy red hues took ...   \n",
       "6   2023 Fashion Trend: Cobalt Blue. The strongest...   \n",
       "56  Gen Z call it \"indie sleaze.\" I call it my war...   \n",
       "..                                                ...   \n",
       "61  \"As seen in Miu Miu's Milan Fashion Week show,...   \n",
       "78  \"As someone who can clearly (not fondly) remem...   \n",
       "7   Sculptural Bags That Make a Simple Statement. ...   \n",
       "18  Oversized Bags. As cute as they can be, tiny b...   \n",
       "10  More Maxi Skirt Moments. Fashion expert and st...   \n",
       "\n",
       "                                               Source  \\\n",
       "63  Spring/Summer 2023 Fashion Trends: 21 Expert-A...   \n",
       "53  Spring/Summer 2023 Fashion Trends: 21 Expert-A...   \n",
       "0   7 Fashion Trends That Will Take Over 2023 — Sh...   \n",
       "6   7 Fashion Trends That Will Take Over 2023 — Sh...   \n",
       "56  Spring/Summer 2023 Fashion Trends: 21 Expert-A...   \n",
       "..                                                ...   \n",
       "61  Spring/Summer 2023 Fashion Trends: 21 Expert-A...   \n",
       "78  Spring/Summer 2023 Fashion Trends: 21 Expert-A...   \n",
       "7   The Top 6 Trends to Wear for Spring 2023, Acco...   \n",
       "18  9 Spring 2023 Fashion Trends You’ll Want to Tr...   \n",
       "10  The Top 6 Trends to Wear for Spring 2023, Acco...   \n",
       "\n",
       "                                                 text  \\\n",
       "63  \"Every season, there is a trend that speaks to...   \n",
       "53  For spring 2023, there was a more surrealist i...   \n",
       "0   2023 Fashion Trend: Red. Glossy red hues took ...   \n",
       "6   2023 Fashion Trend: Cobalt Blue. The strongest...   \n",
       "56  Gen Z call it \"indie sleaze.\" I call it my war...   \n",
       "..                                                ...   \n",
       "61  \"As seen in Miu Miu's Milan Fashion Week show,...   \n",
       "78  \"As someone who can clearly (not fondly) remem...   \n",
       "7   Sculptural Bags That Make a Simple Statement. ...   \n",
       "18  Oversized Bags. As cute as they can be, tiny b...   \n",
       "10  More Maxi Skirt Moments. Fashion expert and st...   \n",
       "\n",
       "                                           embeddings  distances  \n",
       "63  [-0.004253895487636328, -0.016355551779270172,...   0.130601  \n",
       "53  [-0.026955636218190193, -0.005796519573777914,...   0.133132  \n",
       "0   [-0.014947973191738129, -0.01965477503836155, ...   0.133258  \n",
       "6   [-0.0023217909038066864, -0.022100433707237244...   0.134244  \n",
       "56  [-0.00038623865111730993, -0.00202168826945126...   0.134522  \n",
       "..                                                ...        ...  \n",
       "61  [-0.02678501233458519, -0.005416037980467081, ...   0.204613  \n",
       "78  [-0.007301459088921547, -0.0058418381959199905...   0.206437  \n",
       "7   [-0.02263840101659298, -0.00013554540055338293...   0.207002  \n",
       "18  [0.003914128988981247, -0.010709906928241253, ...   0.207272  \n",
       "10  [-0.008739108219742775, -0.0039319307543337345...   0.210638  \n",
       "\n",
       "[82 rows x 6 columns]"
      ]
     },
     "execution_count": 85,
     "metadata": {},
     "output_type": "execute_result"
    }
   ],
   "source": [
    "df_embedded_sorted = get_rows_sorted_by_relevance(MY_QUESTION, df_embedded)\n",
    "df_embedded_sorted"
   ]
  },
  {
   "cell_type": "markdown",
   "id": "10d9246a",
   "metadata": {},
   "source": [
    "### Compose a custom text prompt"
   ]
  },
  {
   "cell_type": "code",
   "execution_count": 86,
   "id": "3a61670f",
   "metadata": {},
   "outputs": [],
   "source": [
    "import tiktoken\n",
    "\n",
    "def create_prompt(question, df, max_token_count):\n",
    "    \"\"\"\n",
    "    Given a question and a dataframe containing rows of text and their\n",
    "    embeddings, return a text prompt to send to a Completion model\n",
    "    \"\"\"\n",
    "    # Create a tokenizer that is designed to align with our embeddings\n",
    "    tokenizer = tiktoken.get_encoding(\"cl100k_base\")\n",
    "\n",
    "    # Count the number of tokens in the prompt template and question\n",
    "    prompt_template = \"\"\"\n",
    "Answer the question based on the context below, and if the question\n",
    "can't be answered based on the context, say \"I don't know\"\n",
    "\n",
    "Context: \n",
    "\n",
    "{}\n",
    "\n",
    "---\n",
    "\n",
    "Question: {}\n",
    "Answer:\"\"\"\n",
    "\n",
    "    current_token_count = len(tokenizer.encode(prompt_template)) + \\\n",
    "                            len(tokenizer.encode(question))\n",
    "\n",
    "    context = []\n",
    "    for text in get_rows_sorted_by_relevance(question, df)[\"text\"].values:\n",
    "\n",
    "        # Increase the counter based on the number of tokens in this row\n",
    "        text_token_count = len(tokenizer.encode(text))\n",
    "        current_token_count += text_token_count\n",
    "\n",
    "        # Add the row of text to the list if we haven't exceeded the max\n",
    "        if current_token_count <= max_token_count:\n",
    "            context.append(text)\n",
    "        else:\n",
    "            break\n",
    "\n",
    "    return prompt_template.format(\"\\n\\n###\\n\\n\".join(context), question)"
   ]
  },
  {
   "cell_type": "markdown",
   "id": "398e9621",
   "metadata": {},
   "source": [
    "Test the step."
   ]
  },
  {
   "cell_type": "code",
   "execution_count": 87,
   "id": "2fa82ec7",
   "metadata": {},
   "outputs": [
    {
     "data": {
      "text/plain": [
       "'\\nAnswer the question based on the context below, and if the question\\ncan\\'t be answered based on the context, say \"I don\\'t know\"\\n\\nContext: \\n\\n\\n\\n---\\n\\nQuestion: List up the cool looking fashion in 2023?\\nAnswer:'"
      ]
     },
     "metadata": {},
     "output_type": "display_data"
    }
   ],
   "source": [
    "prompt = create_prompt(MY_QUESTION, df_embedded_sorted, 100)\n",
    "display(prompt)"
   ]
  },
  {
   "cell_type": "markdown",
   "id": "c772438a",
   "metadata": {},
   "source": [
    "Now define a function to get answers for the question."
   ]
  },
  {
   "cell_type": "code",
   "execution_count": 88,
   "id": "582f0656",
   "metadata": {},
   "outputs": [],
   "source": [
    "COMPLETION_MODEL_NAME = \"gpt-3.5-turbo-instruct\"\n",
    "\n",
    "def answer_question(\n",
    "    question, df, max_prompt_tokens=1800, max_answer_tokens=150\n",
    "):\n",
    "    \"\"\"\n",
    "    Given a question, a dataframe containing rows of text, and a maximum\n",
    "    number of desired tokens in the prompt and response, return the\n",
    "    answer to the question according to an OpenAI Completion model\n",
    "\n",
    "    If the model produces an error, return an empty string\n",
    "    \"\"\"\n",
    "\n",
    "    prompt = create_prompt(question, df, max_prompt_tokens)\n",
    "\n",
    "    try:\n",
    "        response = openai.Completion.create(\n",
    "            model=COMPLETION_MODEL_NAME,\n",
    "            prompt=prompt,\n",
    "            max_tokens=max_answer_tokens\n",
    "        )\n",
    "        return response[\"choices\"][0][\"text\"].strip()\n",
    "    except Exception as e:\n",
    "        print(e)\n",
    "        return \"\""
   ]
  },
  {
   "cell_type": "code",
   "execution_count": 89,
   "id": "8b6e1f75",
   "metadata": {},
   "outputs": [
    {
     "data": {
      "text/plain": [
       "'According to the given context, the most popular fashion trends for spring 2023 include reinvented classics, minimalist tailoring, edgy and nostalgic styles, sheer and mesh clothing, pinstripe tailoring, draped dresses, statement tops, and colorful 3D floral embellishments. However, fashion trends are constantly evolving and can vary depending on individual preferences and geographical location.'"
      ]
     },
     "execution_count": 89,
     "metadata": {},
     "output_type": "execute_result"
    }
   ],
   "source": [
    "MY_QUESTION = \"\"\"What is the most popular fasion in 2023 spring?\"\"\";\n",
    "\n",
    "answer_question(MY_QUESTION, df_embedded)"
   ]
  },
  {
   "cell_type": "markdown",
   "id": "1783f146",
   "metadata": {},
   "source": [
    "## Custom Performance Demonstration\n",
    "\n",
    "TODO: In the cells below, demonstrate the performance of your custom query using at least 2 questions. For each question, show the answer from a basic `Completion` model query as well as the answer from your custom query."
   ]
  },
  {
   "cell_type": "markdown",
   "id": "4f11fdc0",
   "metadata": {},
   "source": [
    "### Question 1"
   ]
  },
  {
   "cell_type": "code",
   "execution_count": 103,
   "id": "4901c850",
   "metadata": {},
   "outputs": [],
   "source": [
    "MY_QUESTION = \"\"\"What is the most popular bottoms in 2023 spring?\"\"\";"
   ]
  },
  {
   "cell_type": "markdown",
   "id": "43da72eb",
   "metadata": {},
   "source": [
    "#### My custome query"
   ]
  },
  {
   "cell_type": "code",
   "execution_count": 104,
   "id": "bd7a093b",
   "metadata": {},
   "outputs": [
    {
     "data": {
      "text/plain": [
       "'The most popular bottoms in 2023 spring are bold colored options like what was seen on the runways of Bottega Veneta, Prada, and Dries Van Noten.'"
      ]
     },
     "execution_count": 104,
     "metadata": {},
     "output_type": "execute_result"
    }
   ],
   "source": [
    "answer_question(MY_QUESTION, df_embedded)"
   ]
  },
  {
   "cell_type": "code",
   "execution_count": 105,
   "id": "cae1994c",
   "metadata": {},
   "outputs": [
    {
     "data": {
      "text/plain": [
       "'As a language model AI, I do not have updated information on fashion trends. However, certain patterns and styles tend to remain popular over time and can be expected to be popular in the spring of 2023. These could include high-waisted pants, wide-leg trousers, culottes, and midi skirts. Other popular bottoms could include flowy or pleated midi skirts, paperbag waist pants, and denim jeans in various styles such as straight, wide-leg, and flare. Trends in 2023 could also include pastel colors, bold prints, and sustainable or eco-friendly materials. However, fashion trends are constantly changing and evolving, so it is challenging to accurately predict the most popular bottoms in 2023 spring.'"
      ]
     },
     "execution_count": 105,
     "metadata": {},
     "output_type": "execute_result"
    }
   ],
   "source": [
    "response = openai.Completion.create(\n",
    "            model=COMPLETION_MODEL_NAME,\n",
    "            prompt=MY_QUESTION,\n",
    "            max_tokens=150\n",
    "        )\n",
    "response[\"choices\"][0][\"text\"].strip()"
   ]
  },
  {
   "cell_type": "markdown",
   "id": "6e86e37c",
   "metadata": {},
   "source": [
    "### Question 2"
   ]
  },
  {
   "cell_type": "code",
   "execution_count": 93,
   "id": "6f646989",
   "metadata": {},
   "outputs": [],
   "source": [
    "MY_QUESTION = \"\"\"What fasion is most popular in 2023 in blue?\"\"\";\n"
   ]
  },
  {
   "cell_type": "markdown",
   "id": "6a7c672b",
   "metadata": {},
   "source": [
    "#### My custom query"
   ]
  },
  {
   "cell_type": "code",
   "execution_count": 94,
   "id": "11c07a54",
   "metadata": {},
   "outputs": [
    {
     "data": {
      "text/plain": [
       "'Cobalt blue is the most popular fashion trend in 2023.'"
      ]
     },
     "execution_count": 94,
     "metadata": {},
     "output_type": "execute_result"
    }
   ],
   "source": [
    "answer_question(MY_QUESTION, df_embedded)"
   ]
  },
  {
   "cell_type": "code",
   "execution_count": 95,
   "id": "1263672f",
   "metadata": {},
   "outputs": [
    {
     "data": {
      "text/plain": [
       "'It is difficult to predict exactly which fashion trends will be popular in 2023, as fashion is constantly evolving and can vary based on personal style and location. However, it is likely that we will continue to see a mix of classic styles and more avant-garde and experimental designs in blue. Some potential fashion trends in blue for 2023 could include:\\n\\n1. Sustainable and eco-friendly fashion: As environmental issues become more pressing, it is likely that the fashion industry will continue to shift towards more sustainable and environmentally friendly practices. This could manifest in the use of natural dyes and materials, as well as more conscious and ethical production methods, in blue fashion items.\\n\\n2. Denim reimagined: Denim is a timeless fashion staple'"
      ]
     },
     "execution_count": 95,
     "metadata": {},
     "output_type": "execute_result"
    }
   ],
   "source": [
    "response = openai.Completion.create(\n",
    "            model=COMPLETION_MODEL_NAME,\n",
    "            prompt=MY_QUESTION,\n",
    "            max_tokens=150\n",
    "        )\n",
    "response[\"choices\"][0][\"text\"].strip()"
   ]
  }
 ],
 "metadata": {
  "kernelspec": {
   "display_name": "Python 3 (ipykernel)",
   "language": "python",
   "name": "python3"
  },
  "language_info": {
   "codemirror_mode": {
    "name": "ipython",
    "version": 3
   },
   "file_extension": ".py",
   "mimetype": "text/x-python",
   "name": "python",
   "nbconvert_exporter": "python",
   "pygments_lexer": "ipython3",
   "version": "3.9.18"
  }
 },
 "nbformat": 4,
 "nbformat_minor": 5
}
